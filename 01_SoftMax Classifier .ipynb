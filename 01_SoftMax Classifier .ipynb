{
 "cells": [
  {
   "cell_type": "code",
   "execution_count": 87,
   "id": "37fd4401",
   "metadata": {},
   "outputs": [],
   "source": [
    "import warnings\n",
    "warnings.filterwarnings(\"ignore\", category=DeprecationWarning) "
   ]
  },
  {
   "cell_type": "code",
   "execution_count": 88,
   "id": "5bc81cc5",
   "metadata": {},
   "outputs": [],
   "source": [
    "import pandas as pd\n",
    "import matplotlib.pyplot as plt\n",
    "import numpy as np\n"
   ]
  },
  {
   "cell_type": "code",
   "execution_count": 89,
   "id": "9aea3c4c",
   "metadata": {},
   "outputs": [],
   "source": [
    "from sklearn.datasets import make_classification"
   ]
  },
  {
   "cell_type": "code",
   "execution_count": 90,
   "id": "134d6540",
   "metadata": {},
   "outputs": [],
   "source": [
    "X,y = make_classification(\n",
    "    n_samples= 1000,\n",
    "    n_features=10,\n",
    "    \n",
    "    n_informative=5,\n",
    "    n_redundant=2,\n",
    "    n_repeated=0,\n",
    "    n_classes=8,\n",
    "    n_clusters_per_class=1,\n",
    "    weights=None,\n",
    "    flip_y=0.01,\n",
    "    class_sep=2.0,\n",
    "    hypercube=True,\n",
    "    shift=0.0,\n",
    "    scale=1.0,\n",
    "    shuffle=True,\n",
    "    random_state=None,)"
   ]
  },
  {
   "cell_type": "code",
   "execution_count": null,
   "id": "0695ddb1",
   "metadata": {},
   "outputs": [],
   "source": []
  },
  {
   "cell_type": "code",
   "execution_count": null,
   "id": "f084a2dc",
   "metadata": {},
   "outputs": [],
   "source": []
  },
  {
   "cell_type": "code",
   "execution_count": 91,
   "id": "f32f5ba9",
   "metadata": {},
   "outputs": [],
   "source": [
    "\n",
    "\n",
    "# df = pd.read_csv(\"spiral.csv\")\n",
    "\n",
    "\n",
    "# print(\"shape of df:\",df.shape)\n"
   ]
  },
  {
   "cell_type": "code",
   "execution_count": 92,
   "id": "64786fdf",
   "metadata": {},
   "outputs": [],
   "source": [
    "# df.head()"
   ]
  },
  {
   "cell_type": "code",
   "execution_count": 93,
   "id": "84a4b30d",
   "metadata": {},
   "outputs": [],
   "source": [
    "# plt.scatter(df[\"x1\"], df[\"x2\"], c=df[\"y\"], s=40, cmap=plt.cm.Spectral)\n",
    "# plt.show()"
   ]
  },
  {
   "cell_type": "code",
   "execution_count": 94,
   "id": "7dcdd7fe",
   "metadata": {},
   "outputs": [],
   "source": [
    "\n",
    "\n",
    "\n",
    "# X = df.iloc[:,:-1].to_numpy()\n",
    "# y = df.iloc[:,-1].to_numpy()"
   ]
  },
  {
   "cell_type": "code",
   "execution_count": 95,
   "id": "d4adb95b",
   "metadata": {},
   "outputs": [
    {
     "data": {
      "text/plain": [
       "array([[ 0.45220093,  1.67704521, -0.72980845, ..., -0.05774497,\n",
       "        -1.90461238, -1.82682229],\n",
       "       [ 3.15118312, -3.85232419, -0.91006142, ...,  3.70623929,\n",
       "         2.62094116,  1.06924275],\n",
       "       [-2.22241704,  0.30366634, -2.43568298, ..., -0.74642355,\n",
       "         2.79624449, -1.55734702],\n",
       "       ...,\n",
       "       [ 0.89444428, -2.45522529, -1.66380836, ...,  0.93690429,\n",
       "         2.67865589, -2.61818236],\n",
       "       [-3.18457566,  2.41372762, -1.29245069, ..., -3.0492331 ,\n",
       "         2.56681584,  1.30550266],\n",
       "       [-0.73344375, -0.84118561, -1.80296225, ..., -0.52180358,\n",
       "         2.66653452, -2.17338442]])"
      ]
     },
     "execution_count": 95,
     "metadata": {},
     "output_type": "execute_result"
    }
   ],
   "source": [
    "X"
   ]
  },
  {
   "cell_type": "code",
   "execution_count": 96,
   "id": "4a7e22ea",
   "metadata": {},
   "outputs": [
    {
     "data": {
      "text/plain": [
       "array([4, 3, 6, 2, 0, 6, 7, 4, 6, 2, 7, 1, 3, 3, 2, 3, 5, 2, 4, 7, 4, 6,\n",
       "       7, 2, 7, 4, 4, 3, 6, 1, 6, 4, 6, 3, 0, 3, 1, 3, 1, 4, 6, 5, 0, 7,\n",
       "       1, 3, 7, 1, 4, 5, 7, 5, 3, 7, 0, 0, 5, 0, 0, 1, 6, 4, 3, 7, 5, 4,\n",
       "       0, 2, 2, 0, 4, 4, 3, 3, 7, 2, 4, 4, 2, 7, 1, 5, 2, 7, 5, 2, 7, 5,\n",
       "       5, 0, 1, 3, 2, 0, 6, 0, 1, 5, 4, 5, 7, 0, 5, 5, 1, 7, 3, 7, 4, 4,\n",
       "       2, 2, 3, 1, 0, 3, 7, 1, 7, 6, 3, 3, 5, 6, 0, 2, 1, 1, 3, 0, 3, 5,\n",
       "       3, 5, 4, 4, 2, 6, 6, 5, 7, 7, 1, 1, 2, 1, 5, 7, 7, 3, 5, 5, 0, 3,\n",
       "       6, 0, 4, 4, 0, 1, 4, 7, 0, 6, 5, 0, 7, 7, 6, 6, 0, 3, 2, 0, 4, 3,\n",
       "       4, 2, 4, 4, 4, 4, 6, 3, 7, 1, 1, 7, 0, 5, 5, 7, 2, 4, 2, 6, 3, 4,\n",
       "       5, 0, 5, 5, 4, 6, 2, 0, 1, 7, 7, 3, 0, 5, 4, 3, 4, 6, 5, 5, 6, 3,\n",
       "       7, 5, 6, 1, 4, 1, 0, 0, 5, 1, 3, 0, 1, 7, 5, 7, 4, 5, 5, 4, 5, 2,\n",
       "       3, 1, 0, 5, 3, 1, 2, 7, 6, 0, 2, 2, 2, 4, 1, 2, 3, 4, 6, 1, 5, 4,\n",
       "       1, 6, 3, 5, 4, 2, 3, 7, 7, 3, 0, 6, 2, 6, 7, 6, 5, 0, 2, 3, 7, 3,\n",
       "       3, 0, 2, 7, 7, 2, 1, 2, 2, 6, 2, 2, 7, 3, 7, 5, 1, 1, 4, 7, 5, 5,\n",
       "       4, 1, 7, 4, 5, 0, 7, 2, 1, 5, 2, 6, 7, 3, 0, 6, 3, 4, 6, 5, 3, 7,\n",
       "       4, 6, 0, 2, 3, 4, 2, 5, 3, 4, 6, 3, 3, 1, 3, 0, 5, 4, 3, 5, 3, 3,\n",
       "       4, 6, 2, 7, 2, 5, 1, 0, 7, 4, 4, 1, 6, 5, 5, 7, 0, 5, 0, 3, 1, 6,\n",
       "       1, 5, 7, 4, 6, 7, 5, 7, 7, 2, 6, 0, 3, 4, 7, 5, 3, 5, 7, 1, 0, 7,\n",
       "       4, 5, 5, 2, 7, 1, 0, 7, 1, 5, 6, 0, 4, 4, 3, 5, 2, 3, 4, 1, 7, 2,\n",
       "       7, 3, 6, 4, 4, 3, 5, 2, 2, 7, 4, 4, 3, 0, 0, 3, 7, 4, 5, 1, 7, 6,\n",
       "       6, 0, 2, 2, 0, 0, 3, 4, 6, 7, 6, 5, 0, 6, 5, 6, 6, 1, 1, 6, 6, 7,\n",
       "       0, 4, 0, 5, 0, 2, 2, 6, 3, 2, 6, 5, 3, 0, 4, 4, 1, 0, 3, 1, 1, 1,\n",
       "       0, 4, 4, 4, 6, 1, 3, 3, 1, 4, 7, 3, 3, 3, 1, 5, 6, 0, 1, 6, 3, 1,\n",
       "       6, 0, 4, 0, 0, 1, 3, 5, 7, 0, 6, 0, 4, 6, 7, 1, 1, 0, 5, 2, 3, 3,\n",
       "       1, 1, 4, 3, 1, 1, 5, 6, 7, 4, 1, 6, 0, 2, 5, 1, 1, 1, 6, 2, 6, 2,\n",
       "       1, 0, 1, 3, 7, 5, 0, 6, 5, 4, 5, 4, 3, 5, 7, 0, 6, 4, 1, 3, 5, 1,\n",
       "       7, 0, 5, 7, 4, 6, 2, 3, 5, 2, 1, 0, 0, 7, 2, 3, 7, 4, 3, 7, 5, 2,\n",
       "       2, 5, 7, 5, 3, 4, 5, 2, 0, 7, 3, 0, 1, 3, 5, 3, 6, 3, 3, 2, 2, 3,\n",
       "       0, 2, 6, 2, 0, 3, 6, 2, 2, 0, 0, 4, 2, 6, 5, 4, 0, 6, 3, 6, 1, 7,\n",
       "       0, 5, 2, 5, 7, 1, 4, 6, 6, 6, 7, 1, 4, 5, 1, 7, 1, 3, 6, 5, 5, 0,\n",
       "       6, 0, 0, 4, 7, 7, 7, 7, 0, 2, 1, 3, 6, 2, 7, 7, 5, 6, 6, 1, 0, 6,\n",
       "       0, 4, 4, 1, 7, 2, 2, 7, 1, 7, 4, 6, 2, 7, 2, 4, 1, 6, 2, 6, 2, 5,\n",
       "       5, 6, 7, 7, 2, 5, 4, 1, 6, 4, 4, 3, 6, 5, 6, 6, 4, 7, 7, 1, 2, 5,\n",
       "       2, 2, 3, 0, 3, 0, 7, 7, 6, 6, 2, 1, 7, 2, 7, 0, 4, 6, 2, 4, 1, 6,\n",
       "       1, 4, 3, 5, 6, 1, 3, 0, 2, 2, 5, 2, 1, 4, 1, 0, 7, 5, 5, 5, 1, 2,\n",
       "       1, 0, 1, 1, 4, 5, 5, 2, 0, 7, 1, 1, 2, 0, 5, 2, 0, 4, 0, 6, 0, 2,\n",
       "       3, 0, 7, 4, 6, 6, 3, 2, 3, 3, 6, 1, 7, 7, 1, 7, 4, 5, 0, 1, 6, 6,\n",
       "       2, 4, 4, 7, 1, 7, 4, 3, 2, 4, 0, 1, 0, 4, 1, 2, 2, 1, 2, 6, 6, 6,\n",
       "       1, 0, 5, 3, 1, 0, 7, 3, 6, 4, 3, 2, 7, 2, 1, 7, 3, 5, 2, 4, 2, 7,\n",
       "       4, 1, 2, 0, 4, 1, 4, 0, 6, 7, 6, 2, 6, 4, 3, 2, 6, 0, 1, 1, 2, 0,\n",
       "       5, 4, 0, 1, 7, 5, 0, 0, 5, 0, 3, 3, 7, 2, 2, 1, 7, 3, 0, 3, 2, 7,\n",
       "       5, 5, 0, 4, 3, 2, 4, 6, 5, 1, 3, 5, 3, 5, 6, 6, 5, 1, 6, 3, 6, 4,\n",
       "       6, 1, 1, 7, 6, 7, 6, 7, 2, 2, 4, 3, 1, 2, 3, 0, 7, 6, 1, 0, 1, 1,\n",
       "       2, 0, 2, 7, 3, 4, 5, 6, 0, 0, 1, 3, 3, 3, 6, 3, 0, 7, 2, 1, 0, 1,\n",
       "       0, 0, 6, 2, 2, 4, 0, 0, 5, 2, 5, 4, 5, 4, 2, 5, 4, 1, 3, 2, 4, 1,\n",
       "       0, 2, 7, 5, 6, 2, 5, 5, 6, 5])"
      ]
     },
     "execution_count": 96,
     "metadata": {},
     "output_type": "execute_result"
    }
   ],
   "source": [
    "y"
   ]
  },
  {
   "cell_type": "code",
   "execution_count": 97,
   "id": "fbe2933d",
   "metadata": {},
   "outputs": [
    {
     "data": {
      "text/plain": [
       "array([[0, 0, 0, ..., 0, 0, 0],\n",
       "       [0, 0, 0, ..., 0, 0, 0],\n",
       "       [0, 0, 0, ..., 0, 1, 0],\n",
       "       ...,\n",
       "       [0, 0, 0, ..., 1, 0, 0],\n",
       "       [0, 0, 0, ..., 0, 1, 0],\n",
       "       [0, 0, 0, ..., 1, 0, 0]], dtype=uint8)"
      ]
     },
     "execution_count": 97,
     "metadata": {},
     "output_type": "execute_result"
    }
   ],
   "source": [
    "y = pd.get_dummies(y).to_numpy()\n",
    "y"
   ]
  },
  {
   "cell_type": "code",
   "execution_count": 98,
   "id": "73ded85b",
   "metadata": {},
   "outputs": [],
   "source": [
    "\n",
    "\n",
    "d = X.shape[1]\n",
    "n = len(X)\n",
    "k = len(np.unique(y))\n",
    "\n"
   ]
  },
  {
   "cell_type": "code",
   "execution_count": 99,
   "id": "5ff09561",
   "metadata": {},
   "outputs": [],
   "source": [
    "k = y.shape[-1]"
   ]
  },
  {
   "cell_type": "code",
   "execution_count": 101,
   "id": "93671e4b",
   "metadata": {},
   "outputs": [
    {
     "data": {
      "text/plain": [
       "(1000, 10, 8)"
      ]
     },
     "execution_count": 101,
     "metadata": {},
     "output_type": "execute_result"
    }
   ],
   "source": [
    "n,d,k"
   ]
  },
  {
   "cell_type": "code",
   "execution_count": 102,
   "id": "e12e7bc7",
   "metadata": {},
   "outputs": [
    {
     "name": "stdout",
     "output_type": "stream",
     "text": [
      "n,d,k :  1000 10 8\n",
      "weights and intercept: \n"
     ]
    },
    {
     "data": {
      "text/plain": [
       "(array([[ 0.01344532,  0.04290497,  0.06401731,  0.03850083,  0.03533386,\n",
       "         -0.0121717 , -0.03075724, -0.06364486],\n",
       "        [ 0.01190792, -0.00078044,  0.02181469, -0.01011982,  0.05853154,\n",
       "         -0.04574006,  0.05948204, -0.07727453],\n",
       "        [ 0.02993518, -0.07203675,  0.01728044, -0.08971225,  0.07609944,\n",
       "         -0.02447824,  0.0637165 , -0.03285625],\n",
       "        [ 0.01639764,  0.02128614,  0.00474804, -0.03950807,  0.07736171,\n",
       "          0.00254958,  0.06037127, -0.07344292],\n",
       "        [ 0.04862301, -0.04222398,  0.01669478,  0.04438062,  0.0107605 ,\n",
       "          0.07229335,  0.11566985, -0.0437114 ],\n",
       "        [-0.08950241, -0.00223851,  0.03096938,  0.03896706, -0.00455251,\n",
       "          0.05238031,  0.06474077,  0.00391128],\n",
       "        [-0.06126203,  0.09009246,  0.0322014 , -0.02509096,  0.01821319,\n",
       "         -0.0201382 , -0.0436247 ,  0.00885409],\n",
       "        [ 0.03318996,  0.07487328,  0.02101625,  0.02105197,  0.02002293,\n",
       "          0.15900256,  0.092597  ,  0.09831989],\n",
       "        [ 0.08485675,  0.03956283, -0.04627074, -0.01238247, -0.03708819,\n",
       "         -0.00880546,  0.01650328,  0.12086604],\n",
       "        [-0.07699094, -0.0041823 ,  0.05601295,  0.04658516, -0.08176046,\n",
       "          0.03774049,  0.04493298,  0.02236965]]),\n",
       " array([[0., 0., 0., 0., 0., 0., 0., 0.]]))"
      ]
     },
     "execution_count": 102,
     "metadata": {},
     "output_type": "execute_result"
    }
   ],
   "source": [
    "print(\"n,d,k : \",n,d,k)\n",
    "\n",
    "w = 0.05*np.random.randn(d,k)\n",
    "b = np.zeros((1,k))\n",
    "\n",
    "print(\"weights and intercept: \")  # weights and biases\n",
    "w,b\n"
   ]
  },
  {
   "cell_type": "markdown",
   "id": "e4249b33",
   "metadata": {},
   "source": [
    "## Forward propagation"
   ]
  },
  {
   "cell_type": "code",
   "execution_count": 103,
   "id": "bc250db0",
   "metadata": {},
   "outputs": [
    {
     "name": "stdout",
     "output_type": "stream",
     "text": [
      "shape of Z: (1000, 8)\n"
     ]
    }
   ],
   "source": [
    "\n",
    "\n",
    "Z = np.dot(X,w) + b\n",
    "print(\"shape of Z:\",Z.shape)\n",
    "\n"
   ]
  },
  {
   "cell_type": "markdown",
   "id": "1b4bd39f",
   "metadata": {},
   "source": [
    "### Activation(Z) : "
   ]
  },
  {
   "cell_type": "code",
   "execution_count": 104,
   "id": "29b088e1",
   "metadata": {},
   "outputs": [],
   "source": [
    "exp_z = np.exp(Z)"
   ]
  },
  {
   "cell_type": "code",
   "execution_count": 105,
   "id": "9ee6a972",
   "metadata": {},
   "outputs": [],
   "source": [
    "# exp_z"
   ]
  },
  {
   "cell_type": "code",
   "execution_count": null,
   "id": "16293b51",
   "metadata": {},
   "outputs": [],
   "source": []
  },
  {
   "cell_type": "code",
   "execution_count": 106,
   "id": "3639c8e8",
   "metadata": {},
   "outputs": [],
   "source": [
    "# np.sum(exp_z,axis = 1,keepdims=True)\n"
   ]
  },
  {
   "cell_type": "code",
   "execution_count": 107,
   "id": "29480e34",
   "metadata": {},
   "outputs": [],
   "source": [
    "#   exp_z / np.sum(exp_z,axis = 1,keepdims=True)"
   ]
  },
  {
   "cell_type": "code",
   "execution_count": 108,
   "id": "3ad84718",
   "metadata": {},
   "outputs": [],
   "source": [
    "probs = exp_z / np.sum(exp_z,axis = 1,keepdims=True)"
   ]
  },
  {
   "cell_type": "code",
   "execution_count": 109,
   "id": "1f7eb104",
   "metadata": {},
   "outputs": [
    {
     "data": {
      "text/plain": [
       "array([[0, 0, 0, ..., 0, 0, 0],\n",
       "       [0, 0, 0, ..., 0, 0, 0],\n",
       "       [0, 0, 0, ..., 0, 1, 0],\n",
       "       ...,\n",
       "       [0, 0, 0, ..., 1, 0, 0],\n",
       "       [0, 0, 0, ..., 0, 1, 0],\n",
       "       [0, 0, 0, ..., 1, 0, 0]], dtype=uint8)"
      ]
     },
     "execution_count": 109,
     "metadata": {},
     "output_type": "execute_result"
    }
   ],
   "source": [
    "y"
   ]
  },
  {
   "cell_type": "code",
   "execution_count": 110,
   "id": "2fba3ccf",
   "metadata": {},
   "outputs": [],
   "source": [
    "# yi*log(Yi^)\n"
   ]
  },
  {
   "cell_type": "code",
   "execution_count": 111,
   "id": "b6152c6b",
   "metadata": {
    "scrolled": true
   },
   "outputs": [
    {
     "data": {
      "text/plain": [
       "2.139805491395059"
      ]
     },
     "execution_count": 111,
     "metadata": {},
     "output_type": "execute_result"
    }
   ],
   "source": [
    "def loss(y, probs):\n",
    "    n = y.shape[0]\n",
    "#     print(n)\n",
    "    error = -(np.log(probs)*y)\n",
    "    return np.sum(error)/n\n",
    "loss(y, probs)"
   ]
  },
  {
   "cell_type": "code",
   "execution_count": null,
   "id": "045f600c",
   "metadata": {},
   "outputs": [],
   "source": []
  },
  {
   "cell_type": "code",
   "execution_count": 112,
   "id": "2d822ba7",
   "metadata": {},
   "outputs": [],
   "source": [
    "# np.sum(np.sum(-(np.log(probs)*y),axis = 1))/300"
   ]
  },
  {
   "cell_type": "markdown",
   "id": "b4b9ee99",
   "metadata": {},
   "source": [
    "## Backward propogation"
   ]
  },
  {
   "cell_type": "markdown",
   "id": "1baf843a",
   "metadata": {},
   "source": [
    "                       \n",
    "        w,b      z      A       J\n",
    "        \n",
    "                dZ      dA        dJ\n",
    "                dW      dZ        dA\n",
    "                \n",
    "                dZ\n",
    "                db\n",
    "                \n",
    "                                 "
   ]
  },
  {
   "cell_type": "markdown",
   "id": "c314b7f1",
   "metadata": {},
   "source": [
    "**Cross Entropy ($CE_i$)** for $i^{th}$ datapoint will be:\n",
    "\n",
    ">$CE_i$ = $-∑^k_{j =1}y_{ij}log(P_{ij})$\n",
    "\n"
   ]
  },
  {
   "cell_type": "code",
   "execution_count": null,
   "id": "ce152a2c",
   "metadata": {},
   "outputs": [],
   "source": []
  },
  {
   "cell_type": "code",
   "execution_count": 113,
   "id": "2f75bd8b",
   "metadata": {},
   "outputs": [],
   "source": [
    "# # dJ_dW = dJ_dA * dA_dZ * dZ_dW\n",
    "    \n",
    "# #         = (A-y).X\n",
    "# #         = (y^ - y).X\n",
    "        \n",
    "    \n",
    "#     dJ/ = (y^-y)*x = (a-y)x\n",
    "#             dw\n",
    "\n",
    "#             dJ/db = (a-y)1"
   ]
  },
  {
   "cell_type": "code",
   "execution_count": 114,
   "id": "b10b89bc",
   "metadata": {},
   "outputs": [
    {
     "data": {
      "text/plain": [
       "(1000, 10, 8)"
      ]
     },
     "execution_count": 114,
     "metadata": {},
     "output_type": "execute_result"
    }
   ],
   "source": [
    "n,d,k"
   ]
  },
  {
   "cell_type": "code",
   "execution_count": null,
   "id": "962f3611",
   "metadata": {},
   "outputs": [],
   "source": []
  },
  {
   "cell_type": "code",
   "execution_count": null,
   "id": "c0e17255",
   "metadata": {},
   "outputs": [],
   "source": []
  },
  {
   "cell_type": "code",
   "execution_count": 115,
   "id": "d3279388",
   "metadata": {},
   "outputs": [
    {
     "name": "stdout",
     "output_type": "stream",
     "text": [
      "loss : @ iteration _0: 2.087439251360406\n",
      "loss : @ iteration _10: 0.39953000879214573\n",
      "loss : @ iteration _20: 0.2732027317358486\n",
      "loss : @ iteration _30: 0.2572283726780792\n",
      "loss : @ iteration _40: 0.24622408602129237\n",
      "loss : @ iteration _50: 0.2415098477412976\n",
      "loss : @ iteration _60: 0.23951674457231614\n",
      "loss : @ iteration _70: 0.23841433468742837\n",
      "loss : @ iteration _80: 0.2376210899186855\n",
      "loss : @ iteration _90: 0.23698943238037756\n",
      "loss : @ iteration _100: 0.23646897515638787\n",
      "loss : @ iteration _110: 0.23603107642860718\n",
      "loss : @ iteration _120: 0.2356563066005801\n",
      "loss : @ iteration _130: 0.23533086588662686\n",
      "loss : @ iteration _140: 0.23504469262791358\n",
      "loss : @ iteration _150: 0.23479029494888534\n",
      "loss : @ iteration _160: 0.23456199335328912\n",
      "loss : @ iteration _170: 0.2343554135741319\n",
      "loss : @ iteration _180: 0.2341671381833896\n",
      "loss : @ iteration _190: 0.2339944621570052\n",
      "loss : @ iteration _200: 0.23383521827633164\n",
      "loss : @ iteration _210: 0.23368765045684586\n",
      "loss : @ iteration _220: 0.23355032057201472\n",
      "loss : @ iteration _230: 0.23342203905922929\n",
      "loss : @ iteration _240: 0.23330181264906538\n",
      "loss : @ iteration _250: 0.2331888045788957\n",
      "loss : @ iteration _260: 0.233082304012568\n",
      "loss : @ iteration _270: 0.23298170231964768\n",
      "loss : @ iteration _280: 0.2328864745151468\n",
      "loss : @ iteration _290: 0.23279616461640784\n"
     ]
    }
   ],
   "source": [
    "max_iter = 300\n",
    "lr = 2.0\n",
    "\n",
    "w = 0.01 * np.random.randn(d,k)\n",
    "b = np.zeros((1,k))\n",
    "loss_history = []\n",
    "\n",
    "for i in range(max_iter):\n",
    "    # evaluate the class probaiblities\n",
    "    \n",
    "    Z = np.dot(X,w) + b\n",
    "    \n",
    "    exp_z = np.exp(Z)\n",
    "    probs = exp_z / (np.sum(exp_z,axis=1, keepdims=True))\n",
    "    \n",
    "    \n",
    "    error = np.sum(np.sum(-(np.log(probs)*y),axis = 1)) / n\n",
    "        \n",
    "    if i %10 == 0:\n",
    "        print(f\"loss : @ iteration _{i}: {error}\")\n",
    "    loss_history.append(error)\n",
    "        \n",
    "#      dJ/ = (y^-y)*x = (a-y)x\n",
    "#             dw\n",
    "\n",
    "#             dJ/db = (a-y)1\n",
    "    \n",
    "    \n",
    "    dJ_dZ = (probs - y)/n\n",
    "    \n",
    "    dJ_dW = np.dot(X.T,dJ_dZ)\n",
    "    dJ_db = np.sum(dJ_dZ,axis=0,keepdims=True)\n",
    "    \n",
    "    \n",
    "    w -= lr * dJ_dW\n",
    "    b -= lr * dJ_db\n",
    "    \n",
    "        \n",
    "        "
   ]
  },
  {
   "cell_type": "code",
   "execution_count": 116,
   "id": "3d7064db",
   "metadata": {},
   "outputs": [
    {
     "data": {
      "text/plain": [
       "[<matplotlib.lines.Line2D at 0x1ae01517f10>]"
      ]
     },
     "execution_count": 116,
     "metadata": {},
     "output_type": "execute_result"
    },
    {
     "data": {
      "image/png": "[encoded data removed]",
      "text/plain": [
       "<Figure size 432x288 with 1 Axes>"
      ]
     },
     "metadata": {
      "needs_background": "light"
     },
     "output_type": "display_data"
    }
   ],
   "source": [
    "plt.plot(loss_history)"
   ]
  },
  {
   "cell_type": "code",
   "execution_count": 117,
   "id": "60645230",
   "metadata": {},
   "outputs": [
    {
     "data": {
      "text/plain": [
       "0.2327187600243626"
      ]
     },
     "execution_count": 117,
     "metadata": {},
     "output_type": "execute_result"
    }
   ],
   "source": [
    "error"
   ]
  },
  {
   "cell_type": "code",
   "execution_count": 118,
   "id": "7ed9484d",
   "metadata": {},
   "outputs": [],
   "source": [
    "Z = np.dot(X,w)+b"
   ]
  },
  {
   "cell_type": "code",
   "execution_count": 119,
   "id": "f5f80dda",
   "metadata": {},
   "outputs": [
    {
     "data": {
      "text/plain": [
       "0.949"
      ]
     },
     "execution_count": 119,
     "metadata": {},
     "output_type": "execute_result"
    }
   ],
   "source": [
    "zE = np.exp(Z)\n",
    "Accuracy = np.sum((np.all(pd.get_dummies(np.argmax(zE / np.sum(zE,axis=1,keepdims=True),axis=1)).to_numpy() == y,axis=1)))/n\n",
    "Accuracy"
   ]
  },
  {
   "cell_type": "code",
   "execution_count": 120,
   "id": "6dfff3f3",
   "metadata": {},
   "outputs": [
    {
     "data": {
      "text/plain": [
       "array([[0, 0, 0, ..., 0, 0, 0],\n",
       "       [0, 0, 0, ..., 0, 0, 0],\n",
       "       [0, 0, 0, ..., 0, 1, 0],\n",
       "       ...,\n",
       "       [0, 0, 0, ..., 1, 0, 0],\n",
       "       [0, 0, 0, ..., 0, 1, 0],\n",
       "       [0, 0, 0, ..., 1, 0, 0]], dtype=uint8)"
      ]
     },
     "execution_count": 120,
     "metadata": {},
     "output_type": "execute_result"
    }
   ],
   "source": [
    "def predict(X):\n",
    "    Z = np.dot(X,w)+b\n",
    "    zE = np.exp(Z)\n",
    "    softmax = zE / np.sum(zE,axis=1,keepdims=True)\n",
    "    y_hat = np.argmax(softmax,axis = 1)\n",
    "    y_hat = pd.get_dummies(y_hat).to_numpy()\n",
    "#     Accuracy = (np.all(y_hat == y, axis = 1).sum() / n)\n",
    "    return y_hat\n",
    "    \n",
    "predict(X)"
   ]
  },
  {
   "cell_type": "code",
   "execution_count": null,
   "id": "1093f24f",
   "metadata": {},
   "outputs": [],
   "source": []
  },
  {
   "cell_type": "code",
   "execution_count": null,
   "id": "524bd8e6",
   "metadata": {},
   "outputs": [],
   "source": []
  },
  {
   "cell_type": "code",
   "execution_count": null,
   "id": "2be97d8f",
   "metadata": {},
   "outputs": [],
   "source": []
  },
  {
   "cell_type": "code",
   "execution_count": null,
   "id": "56b4dce6",
   "metadata": {},
   "outputs": [],
   "source": [
    "X,y = make_classification(\n",
    "    n_samples= 1000,\n",
    "    n_features=10,\n",
    "    \n",
    "    n_informative=5,\n",
    "    n_redundant=2,\n",
    "    n_repeated=0,\n",
    "    n_classes=8,\n",
    "    n_clusters_per_class=1,\n",
    "    weights=None,\n",
    "    flip_y=0.01,\n",
    "    class_sep=2.0,\n",
    "    hypercube=True,\n",
    "    shift=0.0,\n",
    "    scale=1.0,\n",
    "    shuffle=True,\n",
    "    random_state=None,)"
   ]
  },
  {
   "cell_type": "code",
   "execution_count": null,
   "id": "dc5af5c7",
   "metadata": {},
   "outputs": [],
   "source": []
  },
  {
   "cell_type": "markdown",
   "id": "90d9948c",
   "metadata": {},
   "source": [
    "    ForwardPropogation \n",
    "    X --> Z = wTx+b  --> y=A(Z)  >> loss(J) >>> BackwardPropogation \n",
    "                                               dJ_dA * dA_dZ * dZ_dW\n",
    "                                               dJ_dA * dA_dZ * dZ_db\n",
    "                                               \n",
    "                                               dJ_dZ * dZ_dW\n",
    "                                               dJ_dZ * dZ_dW\n",
    "      "
   ]
  },
  {
   "cell_type": "code",
   "execution_count": 122,
   "id": "49a83ec9",
   "metadata": {
    "scrolled": true
   },
   "outputs": [
    {
     "data": {
      "text/plain": [
       "(1000, 10, 8)"
      ]
     },
     "execution_count": 122,
     "metadata": {},
     "output_type": "execute_result"
    }
   ],
   "source": [
    "n,d,k"
   ]
  },
  {
   "cell_type": "code",
   "execution_count": 237,
   "id": "2460ffcc",
   "metadata": {},
   "outputs": [],
   "source": [
    "class SoftmaxClassfier:\n",
    "    \n",
    "    def __init__(self,n_features , n_class):\n",
    "        self.d = n_features\n",
    "        self.k = n_class\n",
    "        self.w = 0.01 * np.random.randn(d,k)\n",
    "        self.b = np.zeros((1,k))\n",
    "        self.loss = []\n",
    "        \n",
    "    def ForwardPropogation(self,X):\n",
    "        Z = np.dot(X,self.w) + self.b\n",
    "        exp_Z = np.exp(Z)\n",
    "        probs = exp_Z / exp_Z.sum(axis = 1, keepdims =True)\n",
    "\n",
    "        return probs\n",
    "    \n",
    "    \n",
    "    def categorical_entropy(self,probs,y):\n",
    "        y = pd.get_dummies(y).to_numpy()\n",
    "        n = len(y)\n",
    "        \n",
    "        error = np.sum(np.sum(-(np.log(probs)*y),axis = 1)) / n\n",
    "        \n",
    "        return error\n",
    "    \n",
    "    \n",
    "    def BackwardPropogation(self,probs,y):\n",
    "        n = y.shape[0]\n",
    "        y = pd.get_dummies(y).to_numpy()\n",
    "                                          # dJ_dA * dA_dZ * dZ_dW\n",
    "                                          # dJ_dA * dA_dZ * dZ_db\n",
    "\n",
    "                                          # dJ_dZ * dZ_dW = (Yhat-Y)*X\n",
    "                                          # dJ_dZ * dZ_dW = (Yhat-Y)*1\n",
    "        dJ_dZ = (probs - y) / n\n",
    "        \n",
    "        dJ_dW = np.dot(X.T,dJ_dZ)\n",
    "        dJ_db = np.sum(dJ_dZ,axis = 0 , keepdims=True)\n",
    "        \n",
    "        return dJ_dW, dJ_db\n",
    "\n",
    "    def fit(self,X,y,lr = 0.1, max_iter = 100):\n",
    "        \n",
    "        for i in range(max_iter):\n",
    "            \n",
    "            probs = self.ForwardPropogation(X)\n",
    "            \n",
    "            loss = self.categorical_entropy(probs,y)\n",
    "            dJ_dW,dJ_db = self.BackwardPropogation(probs,y)\n",
    "            \n",
    "            self.w = self.w - lr* dJ_dW\n",
    "            self.b = self.b - lr* dJ_db\n",
    "            \n",
    "            self.loss.append(loss)\n",
    "            \n",
    "    def plot_loss(self):\n",
    "        plt.plot(self.loss)\n",
    "        plt.show()\n",
    "    \n",
    "    def predict(self,X):\n",
    "        probs = self.ForwardPropogation(X)\n",
    "        return np.argmax(probs,axis = 1)\n",
    "    \n",
    "    def Accuracy(self):\n",
    "        \n",
    "        return np.sum(self.predict(X) == y) / len(X)\n"
   ]
  },
  {
   "cell_type": "code",
   "execution_count": null,
   "id": "73030e43",
   "metadata": {},
   "outputs": [],
   "source": []
  },
  {
   "cell_type": "code",
   "execution_count": 238,
   "id": "09b27840",
   "metadata": {},
   "outputs": [],
   "source": [
    "model = SoftmaxClassfier(10,8)"
   ]
  },
  {
   "cell_type": "code",
   "execution_count": 239,
   "id": "e7772ed7",
   "metadata": {},
   "outputs": [
    {
     "data": {
      "text/plain": [
       "array([[0.10923009, 0.14145699, 0.13053034, ..., 0.1415715 , 0.12076924,\n",
       "        0.127005  ],\n",
       "       [0.15823947, 0.11435915, 0.11682643, ..., 0.11069184, 0.12084322,\n",
       "        0.12107212],\n",
       "       [0.11835364, 0.13161958, 0.11931575, ..., 0.1176114 , 0.126245  ,\n",
       "        0.13375898],\n",
       "       ...,\n",
       "       [0.12686473, 0.10994306, 0.11355437, ..., 0.10713648, 0.15234516,\n",
       "        0.13490905],\n",
       "       [0.15026029, 0.1119157 , 0.1182991 , ..., 0.11603873, 0.12112031,\n",
       "        0.1237589 ],\n",
       "       [0.12637719, 0.12081125, 0.12711283, ..., 0.13566607, 0.12393971,\n",
       "        0.12419499]])"
      ]
     },
     "execution_count": 239,
     "metadata": {},
     "output_type": "execute_result"
    }
   ],
   "source": [
    "model.ForwardPropogation(X)"
   ]
  },
  {
   "cell_type": "code",
   "execution_count": 240,
   "id": "5a52672d",
   "metadata": {},
   "outputs": [
    {
     "data": {
      "text/plain": [
       "2.0655068547504065"
      ]
     },
     "execution_count": 240,
     "metadata": {},
     "output_type": "execute_result"
    }
   ],
   "source": [
    "model.categorical_entropy(model.ForwardPropogation(X),y)"
   ]
  },
  {
   "cell_type": "code",
   "execution_count": 241,
   "id": "7c9bd2c5",
   "metadata": {},
   "outputs": [
    {
     "data": {
      "text/plain": [
       "(array([[ 1.87040016e-01,  1.72367694e-01,  2.04049000e-01,\n",
       "         -3.08617686e-01,  1.73379654e-01, -2.98769925e-01,\n",
       "          1.69140518e-01, -2.98589270e-01],\n",
       "        [-1.85258810e-02,  1.20861839e-02, -1.18838050e-02,\n",
       "          8.06736826e-03,  4.24258669e-03,  1.70045464e-02,\n",
       "         -1.08176843e-02, -1.73314952e-04],\n",
       "        [-1.84559388e-02, -1.50727437e-02,  1.30918043e-02,\n",
       "          9.21650807e-03,  6.09568244e-03,  1.09934266e-02,\n",
       "         -1.43603322e-02,  8.49159333e-03],\n",
       "        [ 1.42467383e-02,  9.43423940e-03,  1.39127932e-02,\n",
       "         -5.52567890e-03,  8.17075638e-04, -8.69371547e-03,\n",
       "         -1.81412351e-02, -6.05021710e-03],\n",
       "        [ 7.54562689e-02, -5.07216132e-02,  2.10058152e-01,\n",
       "          3.69046193e-01, -2.71412943e-01,  2.46090615e-01,\n",
       "         -3.39787969e-02, -5.44537877e-01],\n",
       "        [-2.01555359e-01,  2.73606784e-01, -1.93870200e-01,\n",
       "         -1.67624797e-01,  2.85451090e-01, -1.44866098e-01,\n",
       "         -1.75310370e-01,  3.24168950e-01],\n",
       "        [ 1.52594726e-01, -3.09902815e-01,  1.88674573e-01,\n",
       "         -2.98745586e-01,  1.77371141e-01, -2.50388988e-01,\n",
       "          1.71871057e-01,  1.68525892e-01],\n",
       "        [-2.46366446e-01, -2.34179685e-01,  2.61054231e-01,\n",
       "         -2.67450617e-01,  2.65791315e-01,  2.56420080e-01,\n",
       "          2.18765570e-01, -2.54034448e-01],\n",
       "        [-3.13305772e-01,  2.25218970e-01, -3.34025384e-01,\n",
       "         -3.35030601e-01,  1.51405497e-01,  1.89044095e-01,\n",
       "          1.81122880e-01,  2.35570316e-01],\n",
       "        [-4.94003758e-01,  1.81084423e-01, -3.95634351e-01,\n",
       "          2.62660974e-01,  6.44241712e-02,  3.33279882e-01,\n",
       "         -3.89197337e-01,  4.37385997e-01]]),\n",
       " array([[ 0.00366296, -0.0020796 , -0.00463447, -0.00056233, -0.00142923,\n",
       "         -0.00310206,  0.00386418,  0.00428055]]))"
      ]
     },
     "execution_count": 241,
     "metadata": {},
     "output_type": "execute_result"
    }
   ],
   "source": [
    "model.BackwardPropogation(model.ForwardPropogation(X),y)"
   ]
  },
  {
   "cell_type": "code",
   "execution_count": 242,
   "id": "51238806",
   "metadata": {},
   "outputs": [],
   "source": [
    "model.fit(X,y)"
   ]
  },
  {
   "cell_type": "code",
   "execution_count": 243,
   "id": "7ac2db3b",
   "metadata": {},
   "outputs": [
    {
     "data": {
      "image/png": "[encoded data removed]",
      "text/plain": [
       "<Figure size 432x288 with 1 Axes>"
      ]
     },
     "metadata": {
      "needs_background": "light"
     },
     "output_type": "display_data"
    }
   ],
   "source": [
    "model.plot_loss()"
   ]
  },
  {
   "cell_type": "code",
   "execution_count": null,
   "id": "5915c50a",
   "metadata": {},
   "outputs": [],
   "source": [
    " "
   ]
  },
  {
   "cell_type": "code",
   "execution_count": 246,
   "id": "a6b0e2ad",
   "metadata": {},
   "outputs": [
    {
     "data": {
      "text/plain": [
       "0.921"
      ]
     },
     "execution_count": 246,
     "metadata": {},
     "output_type": "execute_result"
    }
   ],
   "source": [
    "model.Accuracy()"
   ]
  },
  {
   "cell_type": "code",
   "execution_count": null,
   "id": "d995cbfe",
   "metadata": {},
   "outputs": [],
   "source": []
  },
  {
   "cell_type": "code",
   "execution_count": null,
   "id": "be1ea353",
   "metadata": {},
   "outputs": [],
   "source": []
  }
 ],
 "metadata": {
  "finalized": {
   "timestamp": 1674752769767,
   "trusted": true
  },
  "kernelspec": {
   "display_name": "Python 3 (ipykernel)",
   "language": "python",
   "name": "python3"
  },
  "language_info": {
   "codemirror_mode": {
    "name": "ipython",
    "version": 3
   },
   "file_extension": ".py",
   "mimetype": "text/x-python",
   "name": "python",
   "nbconvert_exporter": "python",
   "pygments_lexer": "ipython3",
   "version": "3.9.7"
  }
 },
 "nbformat": 4,
 "nbformat_minor": 5
}
